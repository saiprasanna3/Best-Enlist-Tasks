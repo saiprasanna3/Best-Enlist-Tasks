{
 "cells": [
  {
   "cell_type": "raw",
   "metadata": {},
   "source": [
    "1.Write a program to loop through a list of numbers and add +2 to every value to elements in list"
   ]
  },
  {
   "cell_type": "code",
   "execution_count": 1,
   "metadata": {},
   "outputs": [
    {
     "name": "stdout",
     "output_type": "stream",
     "text": [
      "Original list is [98, 23, 456, 98, 89, 12]\n",
      "After adding 2 to each number we get [100, 25, 458, 100, 91, 14]\n"
     ]
    }
   ],
   "source": [
    "li1=[98,23,456,98,89,12]\n",
    "print('Original list is',li1)\n",
    "\n",
    "new_li=[i+2 for i in li1]\n",
    "print('After adding 2 to each number we get',new_li)"
   ]
  },
  {
   "cell_type": "raw",
   "metadata": {},
   "source": [
    "2.Write a python program to print the below pattern\n",
    "54321\n",
    "4321\n",
    "321\n",
    "21\n",
    "1"
   ]
  },
  {
   "cell_type": "code",
   "execution_count": 2,
   "metadata": {},
   "outputs": [
    {
     "name": "stdout",
     "output_type": "stream",
     "text": [
      "54321\n",
      "4321\n",
      "321\n",
      "21\n",
      "1\n"
     ]
    }
   ],
   "source": [
    "li=['5','4','3','2','1']\n",
    "for i in range(len(li)):\n",
    "    print(''.join(li[i:]))"
   ]
  },
  {
   "cell_type": "raw",
   "metadata": {},
   "source": [
    "3.Python program to print Fibonacci Seqence\n"
   ]
  },
  {
   "cell_type": "code",
   "execution_count": 3,
   "metadata": {},
   "outputs": [
    {
     "name": "stdout",
     "output_type": "stream",
     "text": [
      "How many terms you need....9\n",
      "Fibonacci Sequence\n",
      "0\n",
      "1\n",
      "1\n",
      "2\n",
      "3\n",
      "5\n",
      "8\n",
      "13\n",
      "21\n"
     ]
    }
   ],
   "source": [
    "n=int(input('How many terms you need....'))\n",
    "\n",
    "n1,n2=0,1\n",
    "count=0\n",
    "\n",
    "#Checking the terms\n",
    "if n<=0:\n",
    "    print('Please enter positive number')\n",
    "elif n==1:\n",
    "    print('Fibonacci Sequence up to',n,':',n1)\n",
    "#generating fibonacci sequence\n",
    "else:\n",
    "    print('Fibonacci Sequence')\n",
    "    while count<n:\n",
    "        print(n1)\n",
    "        nth=n1+n2\n",
    "        n1=n2\n",
    "        n2=nth\n",
    "        count+=1"
   ]
  },
  {
   "cell_type": "raw",
   "metadata": {},
   "source": [
    "4.Explain Armstrong number and write a code with a function "
   ]
  },
  {
   "cell_type": "raw",
   "metadata": {},
   "source": [
    "In case if we have 3 digits ,the sum of cubes of each digit is equal to the number itself.For example\n",
    "153=1*1*1+5*5*5+3*3*3\n",
    "It is an Armstrong number"
   ]
  },
  {
   "cell_type": "code",
   "execution_count": 4,
   "metadata": {},
   "outputs": [
    {
     "name": "stdout",
     "output_type": "stream",
     "text": [
      "Enter the nunber...153\n",
      "\n",
      " 153 is Armstrong Number\n"
     ]
    }
   ],
   "source": [
    "def Armstrong_Number(Number):\n",
    "    sum=0\n",
    "    times=0\n",
    "    #Calculating number of individual digits\n",
    "    temp=Number\n",
    "    while temp>0:\n",
    "        times=times+1\n",
    "        temp=temp//10\n",
    "        \n",
    "    #Finding Armstrong number\n",
    "    temp=Number\n",
    "    for i in range(1,temp+1):\n",
    "        remainder=temp%10\n",
    "        sum=sum+(remainder**times)\n",
    "        temp//=10\n",
    "        \n",
    "    return sum\n",
    "\n",
    "Number=int(input('Enter the nunber...'))\n",
    "\n",
    "if(Number==Armstrong_Number(Number)):\n",
    "    print('\\n %d is Armstrong Number'%Number)\n",
    "    \n",
    "else:\n",
    "    print('\\n %d is not a Armstrong Number' %Number)\n",
    "    "
   ]
  },
  {
   "cell_type": "raw",
   "metadata": {},
   "source": [
    "5.Write a program to print multiplication table of 9"
   ]
  },
  {
   "cell_type": "code",
   "execution_count": 5,
   "metadata": {},
   "outputs": [
    {
     "name": "stdout",
     "output_type": "stream",
     "text": [
      "Enter the number9\n",
      "9 x 1 = 9\n",
      "9 x 2 = 18\n",
      "9 x 3 = 27\n",
      "9 x 4 = 36\n",
      "9 x 5 = 45\n",
      "9 x 6 = 54\n",
      "9 x 7 = 63\n",
      "9 x 8 = 72\n",
      "9 x 9 = 81\n",
      "9 x 10 = 90\n",
      "9 x 11 = 99\n",
      "9 x 12 = 108\n",
      "9 x 13 = 117\n",
      "9 x 14 = 126\n"
     ]
    }
   ],
   "source": [
    "number=int(input('Enter the number'))\n",
    "for i in range(1,15):\n",
    "           print(number,'x',i,'=',number*i)"
   ]
  },
  {
   "cell_type": "raw",
   "metadata": {},
   "source": [
    "6.Check if a program is positive or negative"
   ]
  },
  {
   "cell_type": "code",
   "execution_count": 6,
   "metadata": {},
   "outputs": [
    {
     "name": "stdout",
     "output_type": "stream",
     "text": [
      "Enter a number...0\n",
      "The number is zero\n"
     ]
    }
   ],
   "source": [
    "num=eval(input('Enter a number...'))\n",
    "if num==0:\n",
    "    print('The number is zero')\n",
    "elif num<0:\n",
    "    print('It is negative number')\n",
    "elif num>0:\n",
    "    print('It is positive number')\n",
    "else:\n",
    "    print('Please enter a number')"
   ]
  },
  {
   "cell_type": "raw",
   "metadata": {},
   "source": [
    "7.Write a program to convert the number of days to ages"
   ]
  },
  {
   "cell_type": "code",
   "execution_count": 7,
   "metadata": {},
   "outputs": [
    {
     "name": "stdout",
     "output_type": "stream",
     "text": [
      "Enter the days........\n",
      "789\n",
      "2 Year 8 Weeks,and 51 Days\n",
      "\n"
     ]
    }
   ],
   "source": [
    "print('Enter the days........')\n",
    "d,y,w=int(input()),None,None\n",
    "\n",
    "#d=days\n",
    "#w=weeks\n",
    "#y=years\n",
    "\n",
    "#Conversion of days to age\n",
    "y=(int)(d/365)\n",
    "w=(int)(d%365/7)\n",
    "d=(int)(d-((y*365)+(w)))\n",
    "\n",
    "#Output\n",
    "print(y,'Year',w,'Weeks,and',d,'Days\\n')"
   ]
  },
  {
   "cell_type": "raw",
   "metadata": {},
   "source": [
    "8.Solve Trigonometry problem using math function write a program to solve using math function"
   ]
  },
  {
   "cell_type": "code",
   "execution_count": 8,
   "metadata": {},
   "outputs": [],
   "source": [
    "#Importing math\n",
    "import math\n",
    "def trig(n,m):\n",
    "    if n=='sin':\n",
    "        return math.sin(m)\n",
    "    elif n=='cos':\n",
    "        return math.cos(m)\n",
    "    elif n=='cosine':\n",
    "        return math.cosine(m)\n",
    "    elif n=='tan':\n",
    "        return math.tan(m)\n",
    "    elif n=='cot':\n",
    "        return math.cot(m)\n",
    "    elif n=='cosec':\n",
    "        return math.cosec(m)\n",
    "    else:\n",
    "        return('Please enter correct input')\n",
    "    \n"
   ]
  },
  {
   "cell_type": "code",
   "execution_count": 9,
   "metadata": {},
   "outputs": [
    {
     "data": {
      "text/plain": [
       "0.8509035245341184"
      ]
     },
     "execution_count": 9,
     "metadata": {},
     "output_type": "execute_result"
    }
   ],
   "source": [
    "trig('sin',45)"
   ]
  },
  {
   "cell_type": "code",
   "execution_count": 10,
   "metadata": {},
   "outputs": [
    {
     "data": {
      "text/plain": [
       "1.0"
      ]
     },
     "execution_count": 10,
     "metadata": {},
     "output_type": "execute_result"
    }
   ],
   "source": [
    "trig('cos',0)"
   ]
  },
  {
   "cell_type": "code",
   "execution_count": 11,
   "metadata": {},
   "outputs": [
    {
     "data": {
      "text/plain": [
       "-1.995200412208242"
      ]
     },
     "execution_count": 11,
     "metadata": {},
     "output_type": "execute_result"
    }
   ],
   "source": [
    "trig('tan',90)"
   ]
  },
  {
   "cell_type": "raw",
   "metadata": {},
   "source": [
    "9.Create a calculator only on a code level by using if condition (Basic arithmetic calculator)"
   ]
  },
  {
   "cell_type": "code",
   "execution_count": null,
   "metadata": {},
   "outputs": [
    {
     "name": "stdout",
     "output_type": "stream",
     "text": [
      "Select an operation\n",
      "1.Add\n",
      "2.Subtract\n",
      "3.Multiply\n",
      "4.Divide\n",
      "Enter a choice(1/2/3/4)4\n",
      "Enter first number56\n",
      "Enter second number3\n",
      "56.0 / 3.0 = 18.666666666666668\n"
     ]
    }
   ],
   "source": [
    "#This function adds two numbers\n",
    "def add(x,y):\n",
    "    return x+y\n",
    "\n",
    "#This function subtracts two numbers\n",
    "def sub(x,y):\n",
    "    return x-y\n",
    "\n",
    "#This function multiplies two numbers\n",
    "def multiply(x,y):\n",
    "    return x*y\n",
    "\n",
    "#This function divides two numbers\n",
    "def divide(x,y):\n",
    "    return x/y\n",
    "\n",
    "print('Select an operation')\n",
    "print('1.Add')\n",
    "print('2.Subtract')\n",
    "print('3.Multiply')\n",
    "print('4.Divide')\n",
    "\n",
    "while True:\n",
    "    #Taking input from user\n",
    "    choice=input('Enter a choice(1/2/3/4)')\n",
    "    \n",
    "    if choice in ('1','2','3','4'):\n",
    "        num1=float(input('Enter first number'))\n",
    "        num2=float(input('Enter second number'))\n",
    "        \n",
    "        if choice=='1':\n",
    "            print(num1,'+',num2,'=',add(num,num2))\n",
    "            \n",
    "        elif choice=='2':\n",
    "            print(num1,'-',num2,'=',sub(num1-num2))\n",
    "            \n",
    "        elif choice=='3':\n",
    "            print(num1,'*',num2,'=',multiply(num1,num2))\n",
    "            \n",
    "        elif choice=='4':\n",
    "            print(num1,'/',num2,'=',divide(num1,num2))\n",
    "            \n",
    "        else:\n",
    "            print('Enter correct choice')\n",
    "            print()"
   ]
  }
 ],
 "metadata": {
  "kernelspec": {
   "display_name": "Python 3",
   "language": "python",
   "name": "python3"
  },
  "language_info": {
   "codemirror_mode": {
    "name": "ipython",
    "version": 3
   },
   "file_extension": ".py",
   "mimetype": "text/x-python",
   "name": "python",
   "nbconvert_exporter": "python",
   "pygments_lexer": "ipython3",
   "version": "3.8.5"
  }
 },
 "nbformat": 4,
 "nbformat_minor": 4
}
