{
 "cells": [
  {
   "cell_type": "code",
   "execution_count": null,
   "metadata": {},
   "outputs": [],
   "source": [
    "from tkinter import *\n",
    "from tkinter import ttk\n",
    "\n",
    "window=Tk()\n",
    "#Declaring window title\n",
    "window.title('Registration Screen')\n",
    "#Declaring Window size\n",
    "window.geometry('600x500')\n",
    "#Declaring window color\n",
    "window.configure(background='blue');\n",
    "\n",
    "#below four fields are declared\n",
    "Firstname=Label(window,text='First Name').grid(row=0,column=0)\n",
    "Lastname=Label(window,text='Last Name').grid(row=1,column=0)\n",
    "Email=Label(window,text='Email').grid(row=2,column=0)\n",
    "Mobile=Label(window,text='Mobile Number').grid(row=3,column=0)\n",
    "RegId=Label(window,text='Registration id').grid(row=4,column=0)\n",
    "Age=Label(window,text='Age').grid(row=5,column=0)\n",
    "Village=Label(window,text='Village').grid(row=6,column=0)\n",
    "Gender=Label(window,text='Gender').grid(row=7,column=0)\n",
    "Country=Label(window,text='Country').grid(row=8,column=0)\n",
    "Father_name=Label(window,text='Father Name').grid(row=9,column=0)\n",
    "Mother_Name=Label(window,text='Mother Name').grid(row=10,column=0)\n",
    "Hobbies=Label(window,text='Hobbies').grid(row=11,column=0)\n",
    "\n",
    "Firstname1=Entry(window).grid(row=0,column=1)\n",
    "Lastname1=Entry(window).grid(row=1,column=1)\n",
    "Email1=Entry(window).grid(row=2,column=1)\n",
    "Mobile1=Entry(window).grid(row=3,column=1)\n",
    "RegId1=Entry(window).grid(row=4,column=1)\n",
    "Age1=Entry(window).grid(row=5,column=1)\n",
    "Village1=Entry(window).grid(row=6,column=1)\n",
    "Gender1=Entry(window).grid(row=7,column=1)\n",
    "Country1=Entry(window).grid(row=8,column=1)\n",
    "Father_name1=Entry(window).grid(row=9,column=1)\n",
    "Mother_name1=Entry(window).grid(row=10,column=1)\n",
    "Hobbies1=Entry(window).grid(row=11,column=1)\n",
    "\n",
    "\n",
    "var1=IntVar()\n",
    "\n",
    "\n",
    "\n",
    "Checkbutton(window,text='accept terms and conditions',variable=var1).place(x=230,y=330)\n",
    "\n",
    "#function declaration\n",
    "def clicked():\n",
    "    res='Welcome to'+  txt.get()\n",
    "    lbl.configure(text=res)\n",
    "btn=ttk.Button(window,text='Submit').place(x=70,y=380)\n",
    "window.mainloop()"
   ]
  },
  {
   "cell_type": "code",
   "execution_count": null,
   "metadata": {},
   "outputs": [],
   "source": []
  }
 ],
 "metadata": {
  "kernelspec": {
   "display_name": "Python 3",
   "language": "python",
   "name": "python3"
  },
  "language_info": {
   "codemirror_mode": {
    "name": "ipython",
    "version": 3
   },
   "file_extension": ".py",
   "mimetype": "text/x-python",
   "name": "python",
   "nbconvert_exporter": "python",
   "pygments_lexer": "ipython3",
   "version": "3.8.5"
  }
 },
 "nbformat": 4,
 "nbformat_minor": 4
}
