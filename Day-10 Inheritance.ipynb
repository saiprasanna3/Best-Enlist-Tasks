{
 "cells": [
  {
   "cell_type": "raw",
   "metadata": {},
   "source": [
    "Create a real time scenario for inheritance example Banking concept"
   ]
  },
  {
   "cell_type": "markdown",
   "metadata": {},
   "source": [
    "# Banking example"
   ]
  },
  {
   "cell_type": "code",
   "execution_count": 1,
   "metadata": {},
   "outputs": [
    {
     "name": "stdout",
     "output_type": "stream",
     "text": [
      "Hello! Welcome to deposited and withdrawl machine\n",
      "Enter the amount to be deposited5600\n",
      "Deposited Amount is: 5600.0\n",
      "Enter the amount to be withdrawn4000\n",
      "You have withdrawn 4000.0\n",
      "Available balance is 5600.0\n"
     ]
    }
   ],
   "source": [
    "#Creating class\n",
    "class Bankaccount:\n",
    "    def __init__(self):\n",
    "        self.balance=0\n",
    "        print('Hello! Welcome to deposited and withdrawl machine')\n",
    "        \n",
    "#Function creation\n",
    "    def deposit(self):\n",
    "        amount=float(input('Enter the amount to be deposited'))\n",
    "        self.balance+=amount\n",
    "        print('Deposited Amount is:',amount)\n",
    "\n",
    "    def withdraw(self):\n",
    "        amount=float(input('Enter the amount to be withdrawn'))\n",
    "        if self.balance>=amount:\n",
    "            print('You have withdrawn',amount)\n",
    "        else:\n",
    "            print('Your balance is insufficient')\n",
    "            \n",
    "    def display(self):\n",
    "        print('Available balance is',self.balance)\n",
    "    \n",
    "#Creating an object for class\n",
    "s=Bankaccount()\n",
    "\n",
    "#Calling the function\n",
    "s.deposit()\n",
    "s.withdraw()\n",
    "s.display()"
   ]
  }
 ],
 "metadata": {
  "kernelspec": {
   "display_name": "Python 3",
   "language": "python",
   "name": "python3"
  },
  "language_info": {
   "codemirror_mode": {
    "name": "ipython",
    "version": 3
   },
   "file_extension": ".py",
   "mimetype": "text/x-python",
   "name": "python",
   "nbconvert_exporter": "python",
   "pygments_lexer": "ipython3",
   "version": "3.8.5"
  }
 },
 "nbformat": 4,
 "nbformat_minor": 4
}
