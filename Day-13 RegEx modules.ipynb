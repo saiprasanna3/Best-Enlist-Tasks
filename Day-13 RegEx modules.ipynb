{
 "cells": [
  {
   "cell_type": "raw",
   "metadata": {},
   "source": [
    "1.Write a python program for all the cases which can check a string contains only a certain set of characters(in this case a-z ,A-Z and 0-9)"
   ]
  },
  {
   "cell_type": "code",
   "execution_count": 1,
   "metadata": {},
   "outputs": [],
   "source": [
    "import re"
   ]
  },
  {
   "cell_type": "code",
   "execution_count": 2,
   "metadata": {},
   "outputs": [
    {
     "name": "stdout",
     "output_type": "stream",
     "text": [
      "False\n",
      "False\n"
     ]
    }
   ],
   "source": [
    "def specific_character(string):\n",
    "    char=re.compile(r'[^a-zA-Z0-9.]')\n",
    "    string=char.search(string)\n",
    "    return not bool(string)\n",
    "\n",
    "print(specific_character('saiprasanna@'))\n",
    "print(specific_character('#$%*'))"
   ]
  },
  {
   "cell_type": "raw",
   "metadata": {},
   "source": [
    "2.Write a Python program that matches word containing 'ab'"
   ]
  },
  {
   "cell_type": "code",
   "execution_count": 3,
   "metadata": {},
   "outputs": [],
   "source": [
    "s='abcabcdefg'\n",
    "search=re.search('ab',s)"
   ]
  },
  {
   "cell_type": "code",
   "execution_count": 4,
   "metadata": {},
   "outputs": [
    {
     "name": "stdout",
     "output_type": "stream",
     "text": [
      "<re.Match object; span=(0, 2), match='ab'>\n"
     ]
    }
   ],
   "source": [
    "print(search)"
   ]
  },
  {
   "cell_type": "code",
   "execution_count": 5,
   "metadata": {},
   "outputs": [
    {
     "name": "stdout",
     "output_type": "stream",
     "text": [
      "['ab', 'ab']\n"
     ]
    }
   ],
   "source": [
    "print(re.findall('ab',s))"
   ]
  },
  {
   "cell_type": "raw",
   "metadata": {},
   "source": [
    "3.Write a python program to check a number at the end of word/sentence"
   ]
  },
  {
   "cell_type": "code",
   "execution_count": 6,
   "metadata": {},
   "outputs": [],
   "source": [
    "def end_num(string):\n",
    "    text=re.compile(r'.*[0-9]')\n",
    "    if text.match(string):\n",
    "        return True\n",
    "    else:\n",
    "        return False"
   ]
  },
  {
   "cell_type": "code",
   "execution_count": 7,
   "metadata": {},
   "outputs": [
    {
     "name": "stdout",
     "output_type": "stream",
     "text": [
      "True\n",
      "False\n"
     ]
    }
   ],
   "source": [
    "print(end_num('afgh08'))\n",
    "print(end_num('sai'))\n"
   ]
  },
  {
   "cell_type": "raw",
   "metadata": {},
   "source": [
    "4.Write a python program to search the numbers(0-9 ) of length between 1 to 3 in given string"
   ]
  },
  {
   "cell_type": "code",
   "execution_count": 8,
   "metadata": {},
   "outputs": [
    {
     "name": "stdout",
     "output_type": "stream",
     "text": [
      "Number of length 1 to 3\n",
      "1\n",
      "23\n",
      "45\n",
      "897\n",
      "7\n",
      "567\n"
     ]
    }
   ],
   "source": [
    "rs=re.finditer(r'([0-9]{1,3})','ab 1,23,45,8977,567')\n",
    "print('Number of length 1 to 3')               \n",
    "for n in rs:\n",
    "               print(n.group(0))"
   ]
  },
  {
   "cell_type": "raw",
   "metadata": {},
   "source": [
    "5.Write a python program to match a string that contains only uppercase letters"
   ]
  },
  {
   "cell_type": "code",
   "execution_count": 9,
   "metadata": {},
   "outputs": [
    {
     "name": "stdout",
     "output_type": "stream",
     "text": [
      "False\n",
      "False\n",
      "True\n"
     ]
    }
   ],
   "source": [
    "def specific_character(string):\n",
    "    char=re.compile(r'[^A-Z.]')\n",
    "    string=char.search(string)\n",
    "    return not bool(string)\n",
    "\n",
    "print(specific_character('Saiprasanna@'))\n",
    "print(specific_character('#$%*'))\n",
    "print(specific_character('ABCDEFGHI'))"
   ]
  }
 ],
 "metadata": {
  "kernelspec": {
   "display_name": "Python 3",
   "language": "python",
   "name": "python3"
  },
  "language_info": {
   "codemirror_mode": {
    "name": "ipython",
    "version": 3
   },
   "file_extension": ".py",
   "mimetype": "text/x-python",
   "name": "python",
   "nbconvert_exporter": "python",
   "pygments_lexer": "ipython3",
   "version": "3.8.5"
  }
 },
 "nbformat": 4,
 "nbformat_minor": 4
}
